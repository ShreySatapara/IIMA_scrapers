{
  "nbformat": 4,
  "nbformat_minor": 0,
  "metadata": {
    "kernelspec": {
      "display_name": "Python 3",
      "language": "python",
      "name": "python3"
    },
    "language_info": {
      "codemirror_mode": {
        "name": "ipython",
        "version": 3
      },
      "file_extension": ".py",
      "mimetype": "text/x-python",
      "name": "python",
      "nbconvert_exporter": "python",
      "pygments_lexer": "ipython3",
      "version": "3.8.3"
    },
    "colab": {
      "name": "Linkedin Scraper.ipynb",
      "provenance": []
    }
  },
  "cells": [
    {
      "cell_type": "code",
      "metadata": {
        "id": "_0Gw_Auw2UnG"
      },
      "source": [
        "import requests\n",
        "import json\n",
        "from bs4 import BeautifulSoup\n",
        "import time"
      ],
      "execution_count": null,
      "outputs": []
    },
    {
      "cell_type": "code",
      "metadata": {
        "id": "t-d7w6Zw2UnJ"
      },
      "source": [
        "def get_likes_comments(cards):\n",
        "    data = {}\n",
        "    for card in cards:\n",
        "        reactions = {}\n",
        "        if 'numLikes' in card:\n",
        "            id_ = card['entityUrn'].replace('urn:li:fsd_socialActivityCounts:urn:li:activity:','')\n",
        "            numLikes = card['numLikes']\n",
        "            for react in card['reactionTypeCounts']:\n",
        "                reactions[react['reactionType']] = react['count']\n",
        "            numComments = card['numComments']\n",
        "            internal_class = {}\n",
        "            internal_class['numLikes'] = numLikes\n",
        "            internal_class['reactions'] = reactions\n",
        "            internal_class['numComments'] = numComments\n",
        "            #internal_class['url'] = card['']\n",
        "            data[id_] = internal_class\n",
        "    return data\n",
        "#print(data)\n",
        "\n",
        "def get_final_data(cards,data):\n",
        "    titles = {}\n",
        "    for card in cards:\n",
        "        if 'title' in card:\n",
        "            if card['title']['text']=='Amul (GCMMF)':\n",
        "                title_and_url = {}\n",
        "                id_ = card['trackingUrn'].replace('urn:li:activity:','')\n",
        "                data[id_]['title'] = card['summary']['text']\n",
        "                data[id_]['url'] = card['navigationUrl']\n",
        "    return data\n",
        "\n",
        "#output = {}\n",
        "def merge_title_like_counts(data,titles):\n",
        "    for card in data:\n",
        "        for title in titles:\n",
        "            if(card==title):\n",
        "                data[card]['title'] = titles[title].replace('#Amul Topical:','')\n",
        "    return data\n"
      ],
      "execution_count": null,
      "outputs": []
    },
    {
      "cell_type": "code",
      "metadata": {
        "id": "eqKCOfqy2UnK"
      },
      "source": [
        "\n",
        "header = {'cookie': 'bcookie=\"v=2&4b7b24e4-7234-47d6-80d3-1cf84128934c\"; bscookie=\"v=1&202009080320272a80615e-734d-417d-8a57-11f9f81ab6beAQHHFXDwwrTJDsF1rn1GUOjlYipLyhns\"; lissc=1; _ga=GA1.2.276744237.1599535229; G_ENABLED_IDPS=google; liap=true; JSESSIONID=\"ajax:8394047485144416831\"; li_sugr=dfb0edc9-7f10-4648-8241-ba9e59d782b7; _gcl_au=1.1.1938116686.1601968743; aam_uuid=03788953109956728954426880792397588798; li_oatml=AQGCi-sPVdFgdgAAAXepSskKCHpNKnonHNvDchNF_-exMLrALTICztw581Z8Mq0j47Ad897Xd49kytqrTE8g0jWLUCxGPcqo; timezone=Asia/Calcutta; gpv_pn=www.linkedin.com%2Flearning%2Fnlp-with-python-for-machine-learning-essential-training%2Fwelcome; s_tslv=1613454858014; li_at=AQEDASjHZiYDT8JiAAABdGu6riEAAAF38XxiXE4AVX0ssikJMSbGOZlHvo4nB3Lx387UdaPb-7G6dAYweLvaOiv3HHkcC8-hz0AgTBEM_V5tFRA3ttQa7YjXvnZVgMoypKuG-zOdSHojZdkIJFyyb9fc; lang=v=2&lang=en-us; spectroscopyId=a42f958f-556d-473d-b2f5-fe2cce8de00e; AMCVS_14215E3D5995C57C0A495C55%40AdobeOrg=1; AnalyticsSyncHistory=AQK0CDYX710r5wAAAXfd3JbQGvkbL-A76ED5vq0iS5Sn0XPeMkfv8KCAhnZz1XpJULA-Fqarf162VqYhxxWaEw; lms_ads=AQFNmQm4sTEXawAAAXfd3JkYTXpmqz1qSFtFhhNRLB7alwXzqIExLus1MfxHj6rGwooxpW9D2JxmEYzgNR6m0-Ax4ttS361s; lms_analytics=AQFNmQm4sTEXawAAAXfd3JkYTXpmqz1qSFtFhhNRLB7alwXzqIExLus1MfxHj6rGwooxpW9D2JxmEYzgNR6m0-Ax4ttS361s; AMCV_14215E3D5995C57C0A495C55%40AdobeOrg=-637568504%7CMCIDTS%7C18684%7CMCMID%7C04000336474427711884440654360387082997%7CMCAAMLH-1614946355%7C12%7CMCAAMB-1614946355%7CRKhpRz8krg2tLO6pguXWp5olkAcUniQYPHaMWWgdJ3xzPWQmdj0y%7CMCOPTOUT-1614348755s%7CNONE%7CvVersion%7C5.1.1%7CMCCIDH%7C864184511; _gid=GA1.2.840784386.1614342447; UserMatchHistory=AQLaJ3FwEMXDZQAAAXfeYLMixNNDZR75L6aKJmqmP9Qj-y5CstNE9Co6q79UF_gWREc4slaSWduRSHTjjba7ZXumBDfy4eWz7B2e6LJ8Hn5dsT2b-aty4h7JYbA_xdE7d7lxNzH4jGnvhh_n1m8zYg5sxGH30nz4qe4x2Zqtc6f2m-Mkbrc7moVLKWeC9REthyIPi46p-KP5xTt0dyx_xfTKsig-MOl9Ed213ld6M24VVVRk-3YGBhOccXNimyKySJFH35M5f5wdqTvrNvd1K3VSMRoojQ1j-THgKtt_jRqP3xBth4AFmWNiVo9-XWFT5A; lidc=\"b=VB54:s=V:r=V:g=3231:u=76:i=1614343618:t=1614393958:v=1:sig=AQH8p1iDQ7vfWtJla5RRm1WtRCUlxKzZ\"'}\n",
        "url = 'https://www.linkedin.com/search/results/content/?keywords=%23Amul%20Topical&origin=SWITCH_SEARCH_VERTICAL&page='\n",
        "def get_data(url,header):\n",
        "    data = {}\n",
        "    for i in range(25):\n",
        "        urls = url + str(i)\n",
        "        try:\n",
        "            x = requests.get(urls, headers = header)\n",
        "            soup = BeautifulSoup(x.text, 'html.parser')#16\n",
        "            x = json.loads((soup.find_all('code')[16]).text)\n",
        "            cards = x['included']\n",
        "            temp_data = get_final_data(cards,get_likes_comments(cards))\n",
        "            data.update(temp_data)\n",
        "            print('success '+str(i))\n",
        "        except:\n",
        "            print('err')\n",
        "        time.sleep(15)\n",
        "    return data"
      ],
      "execution_count": null,
      "outputs": []
    },
    {
      "cell_type": "code",
      "metadata": {
        "id": "7LTAgVvT2UnM"
      },
      "source": [
        "!cd Desktop"
      ],
      "execution_count": null,
      "outputs": []
    },
    {
      "cell_type": "code",
      "metadata": {
        "id": "rW7_QSpW2UnM",
        "outputId": "89365776-03b4-42d6-8f7b-ae1e90e509ce"
      },
      "source": [
        "!pwd"
      ],
      "execution_count": null,
      "outputs": [
        {
          "output_type": "stream",
          "text": [
            "/home/shrey\r\n"
          ],
          "name": "stdout"
        }
      ]
    },
    {
      "cell_type": "code",
      "metadata": {
        "id": "n3WgY1Zr2UnN",
        "outputId": "27baa30f-951e-4b37-dc03-f0b50a209c83"
      },
      "source": [
        "data = get_data(url,header)\n",
        "with open('/home/shrey/Desktop/linkedin_data.json', 'w') as outfile:\n",
        "    json.dump(data, outfile)"
      ],
      "execution_count": null,
      "outputs": [
        {
          "output_type": "stream",
          "text": [
            "success 0\n",
            "success 1\n",
            "success 2\n",
            "success 3\n",
            "success 4\n",
            "success 5\n",
            "success 6\n",
            "success 7\n",
            "success 8\n",
            "success 9\n",
            "success 10\n",
            "success 11\n",
            "success 12\n",
            "success 13\n",
            "success 14\n",
            "success 15\n",
            "success 16\n",
            "success 17\n",
            "success 18\n",
            "success 19\n",
            "success 20\n",
            "success 21\n",
            "success 22\n",
            "success 23\n",
            "success 24\n"
          ],
          "name": "stdout"
        }
      ]
    },
    {
      "cell_type": "code",
      "metadata": {
        "id": "BfOxEjB52UnO",
        "outputId": "4da2c45b-3527-423e-a109-c48cbe87ca08"
      },
      "source": [
        "len(data)"
      ],
      "execution_count": null,
      "outputs": [
        {
          "output_type": "execute_result",
          "data": {
            "text/plain": [
              "240"
            ]
          },
          "metadata": {
            "tags": []
          },
          "execution_count": 15
        }
      ]
    },
    {
      "cell_type": "code",
      "metadata": {
        "id": "lisrJl0s2UnO"
      },
      "source": [
        "d"
      ],
      "execution_count": null,
      "outputs": []
    },
    {
      "cell_type": "code",
      "metadata": {
        "id": "WOtkIXmO2UnQ"
      },
      "source": [
        ""
      ],
      "execution_count": null,
      "outputs": []
    }
  ]
}