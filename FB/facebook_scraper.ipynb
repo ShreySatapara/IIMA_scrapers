{
  "nbformat": 4,
  "nbformat_minor": 0,
  "metadata": {
    "colab": {
      "name": "scraping.ipynb",
      "provenance": [],
      "collapsed_sections": []
    },
    "kernelspec": {
      "name": "python3",
      "display_name": "Python 3"
    }
  },
  "cells": [
    {
      "cell_type": "code",
      "metadata": {
        "colab": {
          "base_uri": "https://localhost:8080/"
        },
        "id": "ngFjA06FSC4A",
        "outputId": "eb12c811-73c0-4e10-a3e1-453fec28de08"
      },
      "source": [
        "!pip install selenium\r\n",
        "!apt-get update # to update ubuntu to correctly run apt install\r\n",
        "!apt install chromium-chromedriver\r\n",
        "!cp /usr/lib/chromium-browser/chromedriver /usr/bin\r\n",
        "!pip install pytesseract"
      ],
      "execution_count": 1,
      "outputs": [
        {
          "output_type": "stream",
          "text": [
            "Requirement already satisfied: selenium in /usr/local/lib/python3.7/dist-packages (3.141.0)\n",
            "Requirement already satisfied: urllib3 in /usr/local/lib/python3.7/dist-packages (from selenium) (1.24.3)\n",
            "Ign:1 https://developer.download.nvidia.com/compute/cuda/repos/ubuntu1804/x86_64  InRelease\n",
            "Hit:2 https://cloud.r-project.org/bin/linux/ubuntu bionic-cran40/ InRelease\n",
            "Hit:3 http://security.ubuntu.com/ubuntu bionic-security InRelease\n",
            "Ign:4 https://developer.download.nvidia.com/compute/machine-learning/repos/ubuntu1804/x86_64  InRelease\n",
            "Hit:5 https://developer.download.nvidia.com/compute/cuda/repos/ubuntu1804/x86_64  Release\n",
            "Hit:6 https://developer.download.nvidia.com/compute/machine-learning/repos/ubuntu1804/x86_64  Release\n",
            "Hit:7 http://ppa.launchpad.net/c2d4u.team/c2d4u4.0+/ubuntu bionic InRelease\n",
            "Hit:8 http://archive.ubuntu.com/ubuntu bionic InRelease\n",
            "Hit:9 http://archive.ubuntu.com/ubuntu bionic-updates InRelease\n",
            "Hit:10 http://ppa.launchpad.net/cran/libgit2/ubuntu bionic InRelease\n",
            "Hit:11 http://archive.ubuntu.com/ubuntu bionic-backports InRelease\n",
            "Hit:13 http://ppa.launchpad.net/deadsnakes/ppa/ubuntu bionic InRelease\n",
            "Hit:15 http://ppa.launchpad.net/graphics-drivers/ppa/ubuntu bionic InRelease\n",
            "Reading package lists... Done\n",
            "Reading package lists... Done\n",
            "Building dependency tree       \n",
            "Reading state information... Done\n",
            "chromium-chromedriver is already the newest version (87.0.4280.66-0ubuntu0.18.04.1).\n",
            "0 upgraded, 0 newly installed, 0 to remove and 13 not upgraded.\n",
            "cp: '/usr/lib/chromium-browser/chromedriver' and '/usr/bin/chromedriver' are the same file\n",
            "Requirement already satisfied: pytesseract in /usr/local/lib/python3.7/dist-packages (0.3.7)\n",
            "Requirement already satisfied: Pillow in /usr/local/lib/python3.7/dist-packages (from pytesseract) (7.0.0)\n"
          ],
          "name": "stdout"
        }
      ]
    },
    {
      "cell_type": "code",
      "metadata": {
        "id": "7kROW434SZIt"
      },
      "source": [
        "import urllib3\r\n",
        "import requests\r\n",
        "import json\r\n",
        "import urllib.request\r\n",
        "import re\r\n",
        "import time\r\n",
        "import logging\r\n",
        "import pandas\r\n",
        "from collections import OrderedDict\r\n",
        "from bs4 import BeautifulSoup\r\n",
        "import time\r\n",
        "from tqdm import tqdm\r\n",
        "import re\r\n",
        "from selenium import webdriver\r\n",
        "from selenium.webdriver.common.keys import Keys\r\n",
        "import sys\r\n",
        "from selenium.webdriver.support import expected_conditions as EC\r\n",
        "from selenium.webdriver.common.by import By\r\n",
        "from selenium.webdriver.support.ui import WebDriverWait\r\n",
        "from selenium.webdriver.common.action_chains import ActionChains\r\n",
        "from selenium.webdriver.chrome.options import Options\r\n",
        "import math\r\n",
        "import pytesseract"
      ],
      "execution_count": 2,
      "outputs": []
    },
    {
      "cell_type": "code",
      "metadata": {
        "id": "CsyHn6oPSGwy"
      },
      "source": [
        "import sys\r\n",
        "sys.path.insert(0,'/usr/lib/chromium-browser/chromedriver')\r\n",
        "from selenium import webdriver\r\n",
        "chrome_options = Options()\r\n",
        "chrome_options.add_argument(\"--headless\")\r\n",
        "chrome_options.add_argument('--no-sandbox')\r\n",
        "driver = webdriver.Chrome('/usr/lib/chromium-browser/chromedriver', options=chrome_options)"
      ],
      "execution_count": 3,
      "outputs": []
    },
    {
      "cell_type": "code",
      "metadata": {
        "id": "KFVMKX4rSLcj"
      },
      "source": [
        "pytesseract.pytesseract.tesseract_cmd = r'/usr/local/bin/pytesseract'"
      ],
      "execution_count": 4,
      "outputs": []
    },
    {
      "cell_type": "code",
      "metadata": {
        "id": "7KzPzdBrT_Bf"
      },
      "source": [
        "usr = \"\"\r\n",
        "pwd = \"\"\r\n",
        " \r\n",
        "url1 = \"https://www.facebook.com/login/device-based/regular/login/?login_attempt=1&lwv=100\"\r\n",
        "\r\n",
        "\r\n",
        "\r\n",
        "def date_str(datetime):\r\n",
        " return str(datetime)[:10].replace('-','')\r\n",
        "\r\n",
        "def get_comments(url, no_comments):\r\n",
        "    driver = webdriver.Chrome(options=options,executable_path=r'chromedriver')\r\n",
        "    \r\n",
        "    time.sleep(5)\r\n",
        "    driver.get(url1)\r\n",
        "\r\n",
        "    email = driver.find_element_by_xpath(\"//input[@id='email' or @name='email']\")\r\n",
        "    email.send_keys(usr)\r\n",
        "    password = driver.find_element_by_xpath(\"//input[@id='pass']\")\r\n",
        "    password.send_keys(pwd)\r\n",
        "    button = driver.find_element_by_xpath(\"//button[@id='loginbutton']\")\r\n",
        "    button.click()\r\n",
        "\r\n",
        "    time.sleep(5)\r\n",
        "\r\n",
        "    driver.get(url)\r\n",
        "    \r\n",
        "    if(no_comments>30):\r\n",
        "        for i in range(math.ceil(no_comments/30)-1):\r\n",
        "            WebDriverWait(driver, 10).until(EC.element_to_be_clickable((By.CLASS_NAME, '_108_'))).click()\r\n",
        "\r\n",
        "    cmt_div = driver.find_elements_by_class_name('_2a_i')\r\n",
        "\r\n",
        "    comments = []\r\n",
        "    for i in cmt_div:\r\n",
        "        time.sleep(3)\r\n",
        "        try:\r\n",
        "            urlt = i.find_element_by_css_selector(\"[data-sigil='ajaxify']\").get_attribute('href')\r\n",
        "            driver.execute_script(\"window.open('', 'new_window')\")\r\n",
        "            driver.switch_to.window(driver.window_handles[1])\r\n",
        "            driver.get(urlt)\r\n",
        "            time.sleep(3)\r\n",
        "            z = driver.find_elements_by_css_selector(\"[data-sigil='comment-body']\")\r\n",
        "            p_comment = z[0].text\r\n",
        "            replies = []\r\n",
        "            for k in range(1,(len(z))):\r\n",
        "                replies.append(z[k].text)\r\n",
        "\r\n",
        "            d = {\r\n",
        "                'comment' : p_comment,\r\n",
        "                'replies' : replies\r\n",
        "            }\r\n",
        "            comments.append(d)\r\n",
        "            driver.switch_to.window(driver.window_handles[0])\r\n",
        "            time.sleep(3)\r\n",
        "        except:\r\n",
        "            try:\r\n",
        "                z = i.find_element_by_class_name('_14v5')\r\n",
        "                continue\r\n",
        "            except:\r\n",
        "                d = {\r\n",
        "                    'comment':i.find_element_by_css_selector(\"[data-sigil='comment-body']\").text\r\n",
        "                }\r\n",
        "                comments.append(d) \r\n",
        "    driver.quit()\r\n",
        "    return comments\r\n",
        "\r\n",
        "posts = []\r\n",
        "def post_check(post):\r\n",
        "    if str(post['time'])[:4]=='2021' or post['post_text'] == None:\r\n",
        "        pass\r\n",
        "    elif str(post['time'])[:4]=='2020' and re.search(r'#?Amul Topical ?: ?', post['post_text']):\r\n",
        "        print(post['post_text'])\r\n",
        "        return posts.append(post)\r\n",
        "\r\n",
        "def isPost(post):\r\n",
        "    if re.search(r'#?Amul Topical ?: ?', post['text']):\r\n",
        "        return True\r\n",
        "    else:\r\n",
        "        return False\r\n",
        "    \r\n",
        "def get_data(post_id, no_comments):\r\n",
        "    url = 'https://m.facebook.com/amul.coop/posts/a.'+post_id+'/'+post_id\r\n",
        "    driver.get(url)\r\n",
        "    \r\n",
        "    time.sleep(2)\r\n",
        "    for i in range(math.ceil(no_comments/30)):\r\n",
        "        try:\r\n",
        "            WebDriverWait(driver, 10).until(EC.element_to_be_clickable((By.CLASS_NAME, '_108_'))).click()\r\n",
        "            time.sleep(3)\r\n",
        "        except:\r\n",
        "            continue\r\n",
        "\r\n",
        "    cmt_div = driver.find_elements_by_class_name('_2a_i')\r\n",
        "    \r\n",
        "    shares = driver.find_element_by_css_selector(\"[data-sigil='feed-ufi-sharers']\").text.split()[0]\r\n",
        "    time.sleep(2)\r\n",
        "    driver.switch_to.window(driver.window_handles[1])\r\n",
        "    driver.get('https://m.facebook.com/ufi/reaction/profile/browser/?ft_ent_identifier='+post_id)\r\n",
        "    time.sleep(2)\r\n",
        "    x = driver.find_elements_by_class_name('_10tn')\r\n",
        "    r = []\r\n",
        "    for i in range(3,len(x)):\r\n",
        "        r.append(x[i].find_element_by_tag_name('span').get_attribute('aria-label'))    \r\n",
        "         \r\n",
        "    reactions = {}\r\n",
        "    for i in r:\r\n",
        "        reactions[i.split()[-1]]=int(value_to_float(i.split()[0]))\r\n",
        "    reactions['shares'] = int(re.sub(',','',shares))\r\n",
        "    \r\n",
        "    driver.switch_to.window(driver.window_handles[0])\r\n",
        "    print('getting comment')\r\n",
        "    comments = []\r\n",
        "    for i in cmt_div:\r\n",
        "        time.sleep(1)\r\n",
        "        try:\r\n",
        "            urlt = i.find_element_by_css_selector(\"[data-sigil='ajaxify']\").get_attribute('href')\r\n",
        "            driver.switch_to.window(driver.window_handles[1])\r\n",
        "            driver.get(urlt)\r\n",
        "            time.sleep(3)\r\n",
        "            z = driver.find_elements_by_css_selector(\"[data-sigil='comment-body']\")\r\n",
        "            p_comment = z[0].text\r\n",
        "            replies = []\r\n",
        "            for k in range(1,(len(z))):\r\n",
        "                replies.append(z[k].text)\r\n",
        "\r\n",
        "            d = {\r\n",
        "                'comment' : p_comment,\r\n",
        "                'replies' : replies\r\n",
        "            }\r\n",
        "            comments.append(d)\r\n",
        "            driver.switch_to.window(driver.window_handles[0])\r\n",
        "            time.sleep(3)\r\n",
        "        except:\r\n",
        "            d = {\r\n",
        "                    'comment':i.find_element_by_css_selector(\"[data-sigil='comment-body']\").text\r\n",
        "                }\r\n",
        "            comments.append(d)\r\n",
        "    \r\n",
        "    data = {\r\n",
        "        'reactions':reactions,\r\n",
        "        'comments':comments\r\n",
        "    }\r\n",
        "    driver.switch_to.window(driver.window_handles[0])\r\n",
        "    return data\r\n",
        "\r\n",
        "def value_to_float(x):\r\n",
        "    if type(x) == float or type(x) == int:\r\n",
        "        return x\r\n",
        "    if 'K' in x:\r\n",
        "        if len(x) > 1:\r\n",
        "            return float(x.replace('K', '')) * 1000\r\n",
        "        return 1000.0\r\n",
        "    if 'M' in x:\r\n",
        "        if len(x) > 1:\r\n",
        "            return float(x.replace('M', '')) * 1000000\r\n",
        "        return 1000000.0\r\n",
        "    if 'B' in x:\r\n",
        "        return float(x.replace('B', '')) * 1000000000\r\n",
        "    return x"
      ],
      "execution_count": 5,
      "outputs": []
    },
    {
      "cell_type": "code",
      "metadata": {
        "id": "DYnt5GVzVR9y"
      },
      "source": [
        "with open('/content/drive/MyDrive/IIM/metadata.json') as f:\r\n",
        "  data = json.load(f)"
      ],
      "execution_count": 6,
      "outputs": []
    },
    {
      "cell_type": "code",
      "metadata": {
        "id": "UaQEpEv7VYko"
      },
      "source": [
        "#driver = webdriver.Chrome(options=options,executable_path=r'chromedriver')\r\n",
        "\r\n",
        "driver.get(url1)\r\n",
        "\r\n",
        "email = driver.find_element_by_xpath(\"//input[@id='email' or @name='email']\")\r\n",
        "email.send_keys(usr)\r\n",
        "password = driver.find_element_by_xpath(\"//input[@id='pass']\")\r\n",
        "password.send_keys(pwd)\r\n",
        "button = driver.find_element_by_xpath(\"//button[@id='loginbutton']\")\r\n",
        "button.click()\r\n",
        "driver.execute_script(\"window.open('', 'new_window')\")\r\n",
        "driver.switch_to.window(driver.window_handles[0])\r\n",
        "time.sleep(5)"
      ],
      "execution_count": 7,
      "outputs": []
    },
    {
      "cell_type": "code",
      "metadata": {
        "id": "JWHzvhTQVZIt"
      },
      "source": [
        "results = []"
      ],
      "execution_count": 8,
      "outputs": []
    },
    {
      "cell_type": "code",
      "metadata": {
        "id": "U3b7YCAWWIxo"
      },
      "source": [
        "err = []"
      ],
      "execution_count": 9,
      "outputs": []
    },
    {
      "cell_type": "code",
      "metadata": {
        "colab": {
          "base_uri": "https://localhost:8080/"
        },
        "id": "QK65FaIpWLy5",
        "outputId": "7cef02b5-c7cb-4b63-af9b-ca49027b028d"
      },
      "source": [
        "for i in range(501,601):\r\n",
        "    print(i)\r\n",
        "    try:\r\n",
        "        urllib.request.urlretrieve(data[i]['image'], \"/content/drive/MyDrive/IIM/images/\"+data[i]['time']+\".jpg\")\r\n",
        "        x = get_data(data[i]['post_id'], data[i]['comments'])\r\n",
        "        x['reactions']['likes'] = data[i]['likes']\r\n",
        "        d = {\r\n",
        "            'title': re.sub(r'#?Amul Topical ?: ?', '', data[i]['text']),\r\n",
        "            'date':data[i]['time'],\r\n",
        "            'fb_interactions':x['reactions'],\r\n",
        "            'no_fb_comments':data[i]['comments'],\r\n",
        "            'fb_comments':x['comments']\r\n",
        "        }\r\n",
        "        results.append(d)\r\n",
        "        if i%20==0:\r\n",
        "            print(\"writing in file\")\r\n",
        "            y = json.dumps(results, indent=4)\r\n",
        "            with open(\"/content/drive/MyDrive/IIM/data5.json\", \"w\") as outfile: \r\n",
        "                outfile.write(y)\r\n",
        "        time.sleep(5)\r\n",
        "    except:\r\n",
        "        err.append(i)"
      ],
      "execution_count": null,
      "outputs": [
        {
          "output_type": "stream",
          "text": [
            "501\n",
            "getting comment\n",
            "502\n",
            "getting comment\n",
            "503\n",
            "getting comment\n",
            "504\n",
            "getting comment\n",
            "505\n",
            "getting comment\n",
            "506\n",
            "getting comment\n",
            "507\n",
            "getting comment\n",
            "508\n",
            "getting comment\n",
            "509\n",
            "getting comment\n",
            "510\n",
            "getting comment\n",
            "511\n",
            "getting comment\n"
          ],
          "name": "stdout"
        }
      ]
    },
    {
      "cell_type": "code",
      "metadata": {
        "id": "x7Jb9gIhWhH-"
      },
      "source": [
        "print('hello world')"
      ],
      "execution_count": null,
      "outputs": []
    },
    {
      "cell_type": "code",
      "metadata": {
        "id": "Dn9BKUcAh4BF"
      },
      "source": [
        "print('hello world')"
      ],
      "execution_count": null,
      "outputs": []
    },
    {
      "cell_type": "code",
      "metadata": {
        "id": "DVSGjaQAuSvh"
      },
      "source": [
        "len(results)"
      ],
      "execution_count": null,
      "outputs": []
    },
    {
      "cell_type": "code",
      "metadata": {
        "id": "swa6l_TpuTp5"
      },
      "source": [
        ""
      ],
      "execution_count": null,
      "outputs": []
    }
  ]
}