{
  "nbformat": 4,
  "nbformat_minor": 5,
  "metadata": {
    "colab": {
      "name": "Daily_weather_data_scrap_wunderground.ipynb",
      "provenance": [],
      "collapsed_sections": []
    },
    "kernelspec": {
      "display_name": "Python 3",
      "language": "python",
      "name": "python3"
    },
    "language_info": {
      "codemirror_mode": {
        "name": "ipython",
        "version": 3
      },
      "file_extension": ".py",
      "mimetype": "text/x-python",
      "name": "python",
      "nbconvert_exporter": "python",
      "pygments_lexer": "ipython3",
      "version": "3.9.2"
    }
  },
  "cells": [
    {
      "cell_type": "code",
      "metadata": {
        "colab": {
          "base_uri": "https://localhost:8080/"
        },
        "id": "vC5XSGGmviWg",
        "outputId": "108680d0-3193-44b4-b7d8-669c9f6a2f63"
      },
      "source": [
        "!pip install selenium\n",
        "!apt-get update # to update ubuntu to correctly run apt install\n",
        "!apt install chromium-chromedriver\n",
        "!cp /usr/lib/chromium-browser/chromedriver /usr/bin\n",
        "!pip install openpyxl"
      ],
      "id": "vC5XSGGmviWg",
      "execution_count": null,
      "outputs": [
        {
          "output_type": "stream",
          "text": [
            "Collecting selenium\n",
            "\u001b[?25l  Downloading https://files.pythonhosted.org/packages/80/d6/4294f0b4bce4de0abf13e17190289f9d0613b0a44e5dd6a7f5ca98459853/selenium-3.141.0-py2.py3-none-any.whl (904kB)\n",
            "\r\u001b[K     |▍                               | 10kB 17.7MB/s eta 0:00:01\r\u001b[K     |▊                               | 20kB 21.6MB/s eta 0:00:01\r\u001b[K     |█                               | 30kB 10.6MB/s eta 0:00:01\r\u001b[K     |█▌                              | 40kB 8.5MB/s eta 0:00:01\r\u001b[K     |█▉                              | 51kB 5.3MB/s eta 0:00:01\r\u001b[K     |██▏                             | 61kB 6.2MB/s eta 0:00:01\r\u001b[K     |██▌                             | 71kB 6.3MB/s eta 0:00:01\r\u001b[K     |███                             | 81kB 6.1MB/s eta 0:00:01\r\u001b[K     |███▎                            | 92kB 6.0MB/s eta 0:00:01\r\u001b[K     |███▋                            | 102kB 6.5MB/s eta 0:00:01\r\u001b[K     |████                            | 112kB 6.5MB/s eta 0:00:01\r\u001b[K     |████▍                           | 122kB 6.5MB/s eta 0:00:01\r\u001b[K     |████▊                           | 133kB 6.5MB/s eta 0:00:01\r\u001b[K     |█████                           | 143kB 6.5MB/s eta 0:00:01\r\u001b[K     |█████▍                          | 153kB 6.5MB/s eta 0:00:01\r\u001b[K     |█████▉                          | 163kB 6.5MB/s eta 0:00:01\r\u001b[K     |██████▏                         | 174kB 6.5MB/s eta 0:00:01\r\u001b[K     |██████▌                         | 184kB 6.5MB/s eta 0:00:01\r\u001b[K     |██████▉                         | 194kB 6.5MB/s eta 0:00:01\r\u001b[K     |███████▎                        | 204kB 6.5MB/s eta 0:00:01\r\u001b[K     |███████▋                        | 215kB 6.5MB/s eta 0:00:01\r\u001b[K     |████████                        | 225kB 6.5MB/s eta 0:00:01\r\u001b[K     |████████▎                       | 235kB 6.5MB/s eta 0:00:01\r\u001b[K     |████████▊                       | 245kB 6.5MB/s eta 0:00:01\r\u001b[K     |█████████                       | 256kB 6.5MB/s eta 0:00:01\r\u001b[K     |█████████▍                      | 266kB 6.5MB/s eta 0:00:01\r\u001b[K     |█████████▉                      | 276kB 6.5MB/s eta 0:00:01\r\u001b[K     |██████████▏                     | 286kB 6.5MB/s eta 0:00:01\r\u001b[K     |██████████▌                     | 296kB 6.5MB/s eta 0:00:01\r\u001b[K     |██████████▉                     | 307kB 6.5MB/s eta 0:00:01\r\u001b[K     |███████████▎                    | 317kB 6.5MB/s eta 0:00:01\r\u001b[K     |███████████▋                    | 327kB 6.5MB/s eta 0:00:01\r\u001b[K     |████████████                    | 337kB 6.5MB/s eta 0:00:01\r\u001b[K     |████████████▎                   | 348kB 6.5MB/s eta 0:00:01\r\u001b[K     |████████████▊                   | 358kB 6.5MB/s eta 0:00:01\r\u001b[K     |█████████████                   | 368kB 6.5MB/s eta 0:00:01\r\u001b[K     |█████████████▍                  | 378kB 6.5MB/s eta 0:00:01\r\u001b[K     |█████████████▊                  | 389kB 6.5MB/s eta 0:00:01\r\u001b[K     |██████████████▏                 | 399kB 6.5MB/s eta 0:00:01\r\u001b[K     |██████████████▌                 | 409kB 6.5MB/s eta 0:00:01\r\u001b[K     |██████████████▉                 | 419kB 6.5MB/s eta 0:00:01\r\u001b[K     |███████████████▏                | 430kB 6.5MB/s eta 0:00:01\r\u001b[K     |███████████████▋                | 440kB 6.5MB/s eta 0:00:01\r\u001b[K     |████████████████                | 450kB 6.5MB/s eta 0:00:01\r\u001b[K     |████████████████▎               | 460kB 6.5MB/s eta 0:00:01\r\u001b[K     |████████████████▋               | 471kB 6.5MB/s eta 0:00:01\r\u001b[K     |█████████████████               | 481kB 6.5MB/s eta 0:00:01\r\u001b[K     |█████████████████▍              | 491kB 6.5MB/s eta 0:00:01\r\u001b[K     |█████████████████▊              | 501kB 6.5MB/s eta 0:00:01\r\u001b[K     |██████████████████▏             | 512kB 6.5MB/s eta 0:00:01\r\u001b[K     |██████████████████▌             | 522kB 6.5MB/s eta 0:00:01\r\u001b[K     |██████████████████▉             | 532kB 6.5MB/s eta 0:00:01\r\u001b[K     |███████████████████▏            | 542kB 6.5MB/s eta 0:00:01\r\u001b[K     |███████████████████▋            | 552kB 6.5MB/s eta 0:00:01\r\u001b[K     |████████████████████            | 563kB 6.5MB/s eta 0:00:01\r\u001b[K     |████████████████████▎           | 573kB 6.5MB/s eta 0:00:01\r\u001b[K     |████████████████████▋           | 583kB 6.5MB/s eta 0:00:01\r\u001b[K     |█████████████████████           | 593kB 6.5MB/s eta 0:00:01\r\u001b[K     |█████████████████████▍          | 604kB 6.5MB/s eta 0:00:01\r\u001b[K     |█████████████████████▊          | 614kB 6.5MB/s eta 0:00:01\r\u001b[K     |██████████████████████          | 624kB 6.5MB/s eta 0:00:01\r\u001b[K     |██████████████████████▌         | 634kB 6.5MB/s eta 0:00:01\r\u001b[K     |██████████████████████▉         | 645kB 6.5MB/s eta 0:00:01\r\u001b[K     |███████████████████████▏        | 655kB 6.5MB/s eta 0:00:01\r\u001b[K     |███████████████████████▌        | 665kB 6.5MB/s eta 0:00:01\r\u001b[K     |████████████████████████        | 675kB 6.5MB/s eta 0:00:01\r\u001b[K     |████████████████████████▎       | 686kB 6.5MB/s eta 0:00:01\r\u001b[K     |████████████████████████▋       | 696kB 6.5MB/s eta 0:00:01\r\u001b[K     |█████████████████████████       | 706kB 6.5MB/s eta 0:00:01\r\u001b[K     |█████████████████████████▍      | 716kB 6.5MB/s eta 0:00:01\r\u001b[K     |█████████████████████████▊      | 727kB 6.5MB/s eta 0:00:01\r\u001b[K     |██████████████████████████      | 737kB 6.5MB/s eta 0:00:01\r\u001b[K     |██████████████████████████▍     | 747kB 6.5MB/s eta 0:00:01\r\u001b[K     |██████████████████████████▉     | 757kB 6.5MB/s eta 0:00:01\r\u001b[K     |███████████████████████████▏    | 768kB 6.5MB/s eta 0:00:01\r\u001b[K     |███████████████████████████▌    | 778kB 6.5MB/s eta 0:00:01\r\u001b[K     |████████████████████████████    | 788kB 6.5MB/s eta 0:00:01\r\u001b[K     |████████████████████████████▎   | 798kB 6.5MB/s eta 0:00:01\r\u001b[K     |████████████████████████████▋   | 808kB 6.5MB/s eta 0:00:01\r\u001b[K     |█████████████████████████████   | 819kB 6.5MB/s eta 0:00:01\r\u001b[K     |█████████████████████████████▍  | 829kB 6.5MB/s eta 0:00:01\r\u001b[K     |█████████████████████████████▊  | 839kB 6.5MB/s eta 0:00:01\r\u001b[K     |██████████████████████████████  | 849kB 6.5MB/s eta 0:00:01\r\u001b[K     |██████████████████████████████▍ | 860kB 6.5MB/s eta 0:00:01\r\u001b[K     |██████████████████████████████▉ | 870kB 6.5MB/s eta 0:00:01\r\u001b[K     |███████████████████████████████▏| 880kB 6.5MB/s eta 0:00:01\r\u001b[K     |███████████████████████████████▌| 890kB 6.5MB/s eta 0:00:01\r\u001b[K     |███████████████████████████████▉| 901kB 6.5MB/s eta 0:00:01\r\u001b[K     |████████████████████████████████| 911kB 6.5MB/s \n",
            "\u001b[?25hRequirement already satisfied: urllib3 in /usr/local/lib/python3.7/dist-packages (from selenium) (1.24.3)\n",
            "Installing collected packages: selenium\n",
            "Successfully installed selenium-3.141.0\n",
            "Get:1 http://security.ubuntu.com/ubuntu bionic-security InRelease [88.7 kB]\n",
            "Get:2 https://cloud.r-project.org/bin/linux/ubuntu bionic-cran40/ InRelease [3,626 B]\n",
            "Ign:3 https://developer.download.nvidia.com/compute/cuda/repos/ubuntu1804/x86_64  InRelease\n",
            "Ign:4 https://developer.download.nvidia.com/compute/machine-learning/repos/ubuntu1804/x86_64  InRelease\n",
            "Get:5 https://developer.download.nvidia.com/compute/cuda/repos/ubuntu1804/x86_64  Release [697 B]\n",
            "Get:6 http://ppa.launchpad.net/c2d4u.team/c2d4u4.0+/ubuntu bionic InRelease [15.9 kB]\n",
            "Hit:7 https://developer.download.nvidia.com/compute/machine-learning/repos/ubuntu1804/x86_64  Release\n",
            "Get:8 https://developer.download.nvidia.com/compute/cuda/repos/ubuntu1804/x86_64  Release.gpg [836 B]\n",
            "Hit:9 http://archive.ubuntu.com/ubuntu bionic InRelease\n",
            "Get:10 http://archive.ubuntu.com/ubuntu bionic-updates InRelease [88.7 kB]\n",
            "Get:11 http://security.ubuntu.com/ubuntu bionic-security/universe amd64 Packages [1,412 kB]\n",
            "Hit:12 http://ppa.launchpad.net/cran/libgit2/ubuntu bionic InRelease\n",
            "Get:13 http://security.ubuntu.com/ubuntu bionic-security/restricted amd64 Packages [423 kB]\n",
            "Get:14 http://security.ubuntu.com/ubuntu bionic-security/main amd64 Packages [2,152 kB]\n",
            "Hit:15 http://ppa.launchpad.net/deadsnakes/ppa/ubuntu bionic InRelease\n",
            "Get:16 http://archive.ubuntu.com/ubuntu bionic-backports InRelease [74.6 kB]\n",
            "Get:17 https://cloud.r-project.org/bin/linux/ubuntu bionic-cran40/ Packages [60.5 kB]\n",
            "Get:18 http://ppa.launchpad.net/graphics-drivers/ppa/ubuntu bionic InRelease [21.3 kB]\n",
            "Ign:20 https://developer.download.nvidia.com/compute/cuda/repos/ubuntu1804/x86_64  Packages\n",
            "Get:20 https://developer.download.nvidia.com/compute/cuda/repos/ubuntu1804/x86_64  Packages [772 kB]\n",
            "Get:21 http://ppa.launchpad.net/c2d4u.team/c2d4u4.0+/ubuntu bionic/main Sources [1,767 kB]\n",
            "Get:22 http://archive.ubuntu.com/ubuntu bionic-updates/universe amd64 Packages [2,183 kB]\n",
            "Get:23 http://archive.ubuntu.com/ubuntu bionic-updates/main amd64 Packages [2,583 kB]\n",
            "Get:24 http://ppa.launchpad.net/c2d4u.team/c2d4u4.0+/ubuntu bionic/main amd64 Packages [904 kB]\n",
            "Get:25 http://archive.ubuntu.com/ubuntu bionic-updates/restricted amd64 Packages [452 kB]\n",
            "Get:26 http://ppa.launchpad.net/graphics-drivers/ppa/ubuntu bionic/main amd64 Packages [41.5 kB]\n",
            "Fetched 13.0 MB in 4s (3,416 kB/s)\n",
            "Reading package lists... Done\n",
            "Reading package lists... Done\n",
            "Building dependency tree       \n",
            "Reading state information... Done\n",
            "The following package was automatically installed and is no longer required:\n",
            "  libnvidia-common-460\n",
            "Use 'apt autoremove' to remove it.\n",
            "The following additional packages will be installed:\n",
            "  chromium-browser chromium-browser-l10n chromium-codecs-ffmpeg-extra\n",
            "Suggested packages:\n",
            "  webaccounts-chromium-extension unity-chromium-extension\n",
            "The following NEW packages will be installed:\n",
            "  chromium-browser chromium-browser-l10n chromium-chromedriver\n",
            "  chromium-codecs-ffmpeg-extra\n",
            "0 upgraded, 4 newly installed, 0 to remove and 72 not upgraded.\n",
            "Need to get 86.6 MB of archives.\n",
            "After this operation, 300 MB of additional disk space will be used.\n",
            "Get:1 http://archive.ubuntu.com/ubuntu bionic-updates/universe amd64 chromium-codecs-ffmpeg-extra amd64 90.0.4430.93-0ubuntu0.18.04.1 [1,128 kB]\n",
            "Get:2 http://archive.ubuntu.com/ubuntu bionic-updates/universe amd64 chromium-browser amd64 90.0.4430.93-0ubuntu0.18.04.1 [76.9 MB]\n",
            "Get:3 http://archive.ubuntu.com/ubuntu bionic-updates/universe amd64 chromium-browser-l10n all 90.0.4430.93-0ubuntu0.18.04.1 [3,853 kB]\n",
            "Get:4 http://archive.ubuntu.com/ubuntu bionic-updates/universe amd64 chromium-chromedriver amd64 90.0.4430.93-0ubuntu0.18.04.1 [4,743 kB]\n",
            "Fetched 86.6 MB in 4s (22.0 MB/s)\n",
            "Selecting previously unselected package chromium-codecs-ffmpeg-extra.\n",
            "(Reading database ... 160706 files and directories currently installed.)\n",
            "Preparing to unpack .../chromium-codecs-ffmpeg-extra_90.0.4430.93-0ubuntu0.18.04.1_amd64.deb ...\n",
            "Unpacking chromium-codecs-ffmpeg-extra (90.0.4430.93-0ubuntu0.18.04.1) ...\n",
            "Selecting previously unselected package chromium-browser.\n",
            "Preparing to unpack .../chromium-browser_90.0.4430.93-0ubuntu0.18.04.1_amd64.deb ...\n",
            "Unpacking chromium-browser (90.0.4430.93-0ubuntu0.18.04.1) ...\n",
            "Selecting previously unselected package chromium-browser-l10n.\n",
            "Preparing to unpack .../chromium-browser-l10n_90.0.4430.93-0ubuntu0.18.04.1_all.deb ...\n",
            "Unpacking chromium-browser-l10n (90.0.4430.93-0ubuntu0.18.04.1) ...\n",
            "Selecting previously unselected package chromium-chromedriver.\n",
            "Preparing to unpack .../chromium-chromedriver_90.0.4430.93-0ubuntu0.18.04.1_amd64.deb ...\n",
            "Unpacking chromium-chromedriver (90.0.4430.93-0ubuntu0.18.04.1) ...\n",
            "Setting up chromium-codecs-ffmpeg-extra (90.0.4430.93-0ubuntu0.18.04.1) ...\n",
            "Setting up chromium-browser (90.0.4430.93-0ubuntu0.18.04.1) ...\n",
            "update-alternatives: using /usr/bin/chromium-browser to provide /usr/bin/x-www-browser (x-www-browser) in auto mode\n",
            "update-alternatives: using /usr/bin/chromium-browser to provide /usr/bin/gnome-www-browser (gnome-www-browser) in auto mode\n",
            "Setting up chromium-chromedriver (90.0.4430.93-0ubuntu0.18.04.1) ...\n",
            "Setting up chromium-browser-l10n (90.0.4430.93-0ubuntu0.18.04.1) ...\n",
            "Processing triggers for man-db (2.8.3-2ubuntu0.1) ...\n",
            "Processing triggers for hicolor-icon-theme (0.17-2) ...\n",
            "Processing triggers for mime-support (3.60ubuntu1) ...\n",
            "Processing triggers for libc-bin (2.27-3ubuntu1.2) ...\n",
            "/sbin/ldconfig.real: /usr/local/lib/python3.7/dist-packages/ideep4py/lib/libmkldnn.so.0 is not a symbolic link\n",
            "\n",
            "cp: '/usr/lib/chromium-browser/chromedriver' and '/usr/bin/chromedriver' are the same file\n",
            "Requirement already satisfied: openpyxl in /usr/local/lib/python3.7/dist-packages (2.5.9)\n",
            "Requirement already satisfied: jdcal in /usr/local/lib/python3.7/dist-packages (from openpyxl) (1.4.1)\n",
            "Requirement already satisfied: et-xmlfile in /usr/local/lib/python3.7/dist-packages (from openpyxl) (1.1.0)\n"
          ],
          "name": "stdout"
        }
      ]
    },
    {
      "cell_type": "code",
      "metadata": {
        "id": "c5309209"
      },
      "source": [
        "import os\n",
        "import selenium\n",
        "from selenium import webdriver\n",
        "import time\n",
        "import io\n",
        "import requests\n",
        "from selenium.common.exceptions import ElementClickInterceptedException\n",
        "import pandas as pd"
      ],
      "id": "c5309209",
      "execution_count": null,
      "outputs": []
    },
    {
      "cell_type": "code",
      "metadata": {
        "id": "ux3Vl0X1vyHI"
      },
      "source": [
        "import urllib3\n",
        "import requests\n",
        "import json\n",
        "import urllib.request\n",
        "import re\n",
        "import time\n",
        "import logging\n",
        "import pandas\n",
        "from collections import OrderedDict\n",
        "from bs4 import BeautifulSoup\n",
        "import time\n",
        "from tqdm import tqdm\n",
        "import re\n",
        "from selenium import webdriver\n",
        "from selenium.webdriver.common.keys import Keys\n",
        "import sys\n",
        "from selenium.webdriver.support import expected_conditions as EC\n",
        "from selenium.webdriver.common.by import By\n",
        "from selenium.webdriver.support.ui import WebDriverWait\n",
        "from selenium.webdriver.common.action_chains import ActionChains\n",
        "from selenium.webdriver.chrome.options import Options\n",
        "from selenium.common.exceptions import StaleElementReferenceException\n",
        "import math\n",
        "import pandas as pd"
      ],
      "id": "ux3Vl0X1vyHI",
      "execution_count": null,
      "outputs": []
    },
    {
      "cell_type": "code",
      "metadata": {
        "id": "06D6k97yvxY4"
      },
      "source": [
        "import sys\n",
        "sys.path.insert(0,'/usr/lib/chromium-browser/chromedriver')\n",
        "from selenium import webdriver\n",
        "chrome_options = Options()\n",
        "chrome_options.add_argument(\"--headless\")\n",
        "chrome_options.add_argument('--no-sandbox')\n",
        "driver = webdriver.Chrome('/usr/lib/chromium-browser/chromedriver', options=chrome_options)"
      ],
      "id": "06D6k97yvxY4",
      "execution_count": null,
      "outputs": []
    },
    {
      "cell_type": "code",
      "metadata": {
        "id": "c2d2c651"
      },
      "source": [
        "def get_monthly_data(base_url,year_month):\n",
        "    print(year_month,end='  ')\n",
        "    url = base_url + year_month\n",
        "    driver.get(url)\n",
        "    time.sleep(7)\n",
        "    data = driver.find_elements_by_class_name(\"calendar-day.current-month.ng-star-inserted\")\n",
        "    monthly_data_list = []\n",
        "    zc = '19103'\n",
        "    row_count = 0\n",
        "    for card in data:\n",
        "        x = {}\n",
        "        meta = {}\n",
        "        d = card.find_element_by_class_name(\"date.ng-star-inserted\").text\n",
        "        date = year_month + '-' + d\n",
        "        max_temp = card.find_elements_by_class_name(\"hi\")#.text.strip('°')\n",
        "        min_temp = card.find_elements_by_class_name(\"low\")#.text.strip('°')\n",
        "        rain = card.find_elements_by_class_name(\"wu-value.wu-value-to\")#.text\n",
        "        w_cond = card.find_elements_by_class_name(\"phrase.ng-star-inserted\")#.text\n",
        "        if(len(max_temp)==0):\n",
        "            max_temp = ''\n",
        "        else:\n",
        "            max_temp = max_temp[0].text.strip('°')\n",
        "            row_count+=1\n",
        "        if(len(min_temp)==0):\n",
        "            min_temp = ''\n",
        "        else:\n",
        "            min_temp = min_temp[0].text.strip('°')\n",
        "        if(len(rain)==0):\n",
        "            rain = ''\n",
        "        else:\n",
        "            rain = rain[0].text\n",
        "        if(len(w_cond)==0):\n",
        "            w_cond = 'NA'\n",
        "        else:\n",
        "            w_cond = w_cond[0].text  \n",
        "\n",
        "        x['ZIPCODE'] = zc\n",
        "        x['DATE'] = date\n",
        "        x['WEATHER_CONDITION'] = w_cond\n",
        "        x['TEMP_H'] = max_temp\n",
        "        x['TEMP_L'] = min_temp\n",
        "        x['PRICIPITATION'] = rain\n",
        "        monthly_data_list.append(x)\n",
        "    time.sleep(3)\n",
        "    meta = {}\n",
        "    meta['YYYY_MM'] = year_month\n",
        "    meta['rows'] = row_count\n",
        "    print(row_count)\n",
        "    return monthly_data_list,meta"
      ],
      "id": "c2d2c651",
      "execution_count": null,
      "outputs": []
    },
    {
      "cell_type": "markdown",
      "metadata": {
        "id": "wdFoLN2lmiji"
      },
      "source": [
        "<h1>change the weather stations here</h1>"
      ],
      "id": "wdFoLN2lmiji"
    },
    {
      "cell_type": "code",
      "metadata": {
        "colab": {
          "base_uri": "https://localhost:8080/"
        },
        "id": "86de36ca",
        "outputId": "aa6d1b77-adfe-4568-9acb-3a1c7e188c37"
      },
      "source": [
        "stations = {\n",
        "    # 'KPSF' : 'https://www.wunderground.com/calendar/us/ma/pittsfield/KPSF/date/',\n",
        "    # 'KLUM' : 'https://www.wunderground.com/calendar/us/wi/menomonie/KLUM/date/',\n",
        "    # 'KAQW' : 'https://www.wunderground.com/calendar/us/ma/north-adams/KAQW/date/',\n",
        "    # 'KMDZ' : 'https://www.wunderground.com/calendar/us/wi/medford/KMDZ/date/',\n",
        "    # 'KONA' : 'https://www.wunderground.com/calendar/us/mn/winona/KONA/date/',\n",
        "    # 'KEAU' : '',\n",
        "    # 'KLSE' : '',\n",
        "    'KPHL' : 'https://www.wunderground.com/calendar/us/pa/philadelphia/KPHL/date/'\n",
        "}\n",
        "for i in stations:\n",
        "    print(i)"
      ],
      "id": "86de36ca",
      "execution_count": null,
      "outputs": [
        {
          "output_type": "stream",
          "text": [
            "KPHL\n"
          ],
          "name": "stdout"
        }
      ]
    },
    {
      "cell_type": "markdown",
      "metadata": {
        "id": "0FswZZGJmoaJ"
      },
      "source": [
        "<h1>change required time period here"
      ],
      "id": "0FswZZGJmoaJ"
    },
    {
      "cell_type": "markdown",
      "metadata": {
        "id": "WpJAWkxxmy2_"
      },
      "source": [
        ""
      ],
      "id": "WpJAWkxxmy2_"
    },
    {
      "cell_type": "code",
      "metadata": {
        "id": "JDc10_a5nCg0",
        "colab": {
          "base_uri": "https://localhost:8080/"
        },
        "outputId": "b7604cac-3475-448f-924f-bc5d080341de"
      },
      "source": [
        "from google.colab import drive\n",
        "drive.mount('/content/drive')"
      ],
      "id": "JDc10_a5nCg0",
      "execution_count": null,
      "outputs": [
        {
          "output_type": "stream",
          "text": [
            "Mounted at /content/drive\n"
          ],
          "name": "stdout"
        }
      ]
    },
    {
      "cell_type": "code",
      "metadata": {
        "id": "c2cc3f4c"
      },
      "source": [
        "def get_data(stations):\n",
        "    for key in stations:\n",
        "        data_list = []\n",
        "        metadata_list = []\n",
        "        for year in [2018,2019,2020]:\n",
        "            for month in [1,2,3,4,5,6,7,8,9,10,11,12]:\n",
        "                ym = str(year) + '-' + str(month)\n",
        "                bu = stations[key]\n",
        "                lst,meta = get_monthly_data(bu,ym)\n",
        "                data_list = data_list + lst\n",
        "                metadata_list.append(meta)\n",
        "        df = pd.DataFrame(data_list, columns = data_list[0].keys())\n",
        "        df.to_excel('/content/drive/MyDrive/' + key + \".xlsx\", index=None)\n",
        "        df2 = pd.DataFrame(metadata_list, columns = metadata_list[0].keys())\n",
        "        df2.to_excel('/content/drive/MyDrive/' + key + \"_metadata.xlsx\", index=None)\n",
        "        print(key + '  saved')"
      ],
      "id": "c2cc3f4c",
      "execution_count": null,
      "outputs": []
    },
    {
      "cell_type": "code",
      "metadata": {
        "colab": {
          "base_uri": "https://localhost:8080/"
        },
        "id": "e60c6439",
        "outputId": "a94552ae-394c-41c8-d31f-87df2384ace3"
      },
      "source": [
        "get_data(stations)"
      ],
      "id": "e60c6439",
      "execution_count": null,
      "outputs": [
        {
          "output_type": "stream",
          "text": [
            "2018-1  31\n",
            "2018-2  28\n",
            "2018-3  31\n",
            "2018-4  30\n",
            "2018-5  19\n",
            "2018-6  30\n",
            "2018-7  31\n",
            "2018-8  31\n",
            "2018-9  30\n",
            "2018-10  31\n",
            "2018-11  30\n",
            "2018-12  31\n",
            "2019-1  31\n",
            "2019-2  28\n",
            "2019-3  31\n",
            "2019-4  30\n",
            "2019-5  19\n",
            "2019-6  30\n",
            "2019-7  31\n",
            "2019-8  31\n",
            "2019-9  30\n",
            "2019-10  31\n",
            "2019-11  30\n",
            "2019-12  31\n",
            "2020-1  31\n",
            "2020-2  29\n",
            "2020-3  31\n",
            "2020-4  30\n",
            "2020-5  19\n",
            "2020-6  30\n",
            "2020-7  31\n",
            "2020-8  31\n",
            "2020-9  30\n",
            "2020-10  31\n",
            "2020-11  29\n",
            "2020-12  31\n",
            "KPHL  saved\n"
          ],
          "name": "stdout"
        }
      ]
    },
    {
      "cell_type": "code",
      "metadata": {
        "id": "227773df",
        "colab": {
          "base_uri": "https://localhost:8080/",
          "height": 162
        },
        "outputId": "c0f56aab-bdd5-436d-d54e-967fd6a46807"
      },
      "source": [
        ""
      ],
      "id": "227773df",
      "execution_count": null,
      "outputs": [
        {
          "output_type": "error",
          "ename": "NameError",
          "evalue": "ignored",
          "traceback": [
            "\u001b[0;31m---------------------------------------------------------------------------\u001b[0m",
            "\u001b[0;31mNameError\u001b[0m                                 Traceback (most recent call last)",
            "\u001b[0;32m<ipython-input-9-aca205aafe70>\u001b[0m in \u001b[0;36m<module>\u001b[0;34m()\u001b[0m\n\u001b[0;32m----> 1\u001b[0;31m \u001b[0mdf\u001b[0m\u001b[0;34m.\u001b[0m\u001b[0mto_excel\u001b[0m\u001b[0;34m(\u001b[0m\u001b[0;34m\"KEAU.xlsx\"\u001b[0m\u001b[0;34m,\u001b[0m \u001b[0mindex\u001b[0m\u001b[0;34m=\u001b[0m\u001b[0;32mNone\u001b[0m\u001b[0;34m)\u001b[0m\u001b[0;34m\u001b[0m\u001b[0;34m\u001b[0m\u001b[0m\n\u001b[0m",
            "\u001b[0;31mNameError\u001b[0m: name 'df' is not defined"
          ]
        }
      ]
    },
    {
      "cell_type": "code",
      "metadata": {
        "id": "cce9d0cc"
      },
      "source": [
        ""
      ],
      "id": "cce9d0cc",
      "execution_count": null,
      "outputs": []
    },
    {
      "cell_type": "code",
      "metadata": {
        "id": "0afbd090"
      },
      "source": [
        ""
      ],
      "id": "0afbd090",
      "execution_count": null,
      "outputs": []
    },
    {
      "cell_type": "code",
      "metadata": {
        "id": "a09916ac"
      },
      "source": [
        "driver.close()"
      ],
      "id": "a09916ac",
      "execution_count": null,
      "outputs": []
    },
    {
      "cell_type": "code",
      "metadata": {
        "id": "c971f463"
      },
      "source": [
        ""
      ],
      "id": "c971f463",
      "execution_count": null,
      "outputs": []
    }
  ]
}